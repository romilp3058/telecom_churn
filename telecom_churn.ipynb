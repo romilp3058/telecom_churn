{
 "cells": [
  {
   "cell_type": "code",
   "execution_count": null,
   "id": "2f387284",
   "metadata": {},
   "outputs": [],
   "source": [
    "import pandas as pd\n",
    "import numpy as np\n",
    "import seaborn as sns\n",
    "import matplotlib.pyplot as plt\n",
    "import warnings\n",
    "warnings.filterwarnings('ignore')\n",
    "from IPython.core.interactiveshell import InteractiveShell\n",
    "InteractiveShell.ast_node_interactivity = \"all\"\n",
    "%matplotlib inline"
   ]
  },
  {
   "cell_type": "code",
   "execution_count": null,
   "id": "4764eb3e",
   "metadata": {},
   "outputs": [],
   "source": [
    "churn = pd.read_csv(\"telecom_churn_data.csv\")"
   ]
  },
  {
   "cell_type": "code",
   "execution_count": null,
   "id": "dbac3ac2",
   "metadata": {},
   "outputs": [],
   "source": [
    "churn.head()"
   ]
  },
  {
   "cell_type": "code",
   "execution_count": null,
   "id": "288af036",
   "metadata": {},
   "outputs": [],
   "source": [
    "churn.info(verbose=1)"
   ]
  },
  {
   "cell_type": "code",
   "execution_count": null,
   "id": "e9246eac",
   "metadata": {},
   "outputs": [],
   "source": [
    "churn.describe(include='all')"
   ]
  },
  {
   "cell_type": "code",
   "execution_count": null,
   "id": "6e9669cd",
   "metadata": {},
   "outputs": [],
   "source": [
    "#segregate columns\n",
    "id=['mobile_number', 'circle_id']\n",
    "\n",
    "date=['last_date_of_month_6', 'last_date_of_month_7','last_date_of_month_8','last_date_of_month_9','date_of_last_rech_6','date_of_last_rech_7','date_of_last_rech_8','date_of_last_rech_9','date_of_last_rech_data_6','date_of_last_rech_data_7','date_of_last_rech_data_8','date_of_last_rech_data_9']\n",
    "\n",
    "cat=['night_pck_user_6','night_pck_user_7','night_pck_user_8','night_pck_user_9','fb_user_6','fb_user_7','fb_user_8','fb_user_9']\n",
    "\n",
    "num=[column for column in df.columns if column not in id + date + cat]"
   ]
  },
  {
   "cell_type": "code",
   "execution_count": null,
   "id": "97c41588",
   "metadata": {},
   "outputs": [],
   "source": [
    "#checking missing values in each column\n",
    "churn.isnull().sum()*100/churn.shape[0]"
   ]
  },
  {
   "cell_type": "code",
   "execution_count": null,
   "id": "05b9944f",
   "metadata": {},
   "outputs": [],
   "source": [
    "pd.set_option(\"display.max_columns\", 300)\n",
    "pd.set_option(\"display.max_rows\", 300)"
   ]
  },
  {
   "cell_type": "code",
   "execution_count": null,
   "id": "38fee171",
   "metadata": {},
   "outputs": [],
   "source": [
    "df.isnull().sum()*100/df.shape[0]"
   ]
  },
  {
   "cell_type": "code",
   "execution_count": null,
   "id": "e8e137aa",
   "metadata": {},
   "outputs": [],
   "source": [
    "#data imputation"
   ]
  },
  {
   "cell_type": "code",
   "execution_count": null,
   "id": "9f9fea6f",
   "metadata": {},
   "outputs": [],
   "source": [
    "recharge=['total_rech_data_6', 'total_rech_data_7', 'total_rech_data_8', 'total_rech_data_9', 'count_rech_2g_6', 'count_rech_2g_7', 'count_rech_2g_8', 'count_rech_2g_9', 'count_rech_3g_6', 'count_rech_3g_7', 'count_rech_3g_8', 'count_rech_3g_9','max_rech_data_6', 'max_rech_data_7', 'max_rech_data_8', 'max_rech_data_9','av_rech_amt_data_6', 'av_rech_amt_data_7', 'av_rech_amt_data_8', 'av_rech_amt_data_9']\n",
    "churn[recharge].describe(include='all')"
   ]
  },
  {
   "cell_type": "code",
   "execution_count": null,
   "id": "92358128",
   "metadata": {},
   "outputs": [],
   "source": [
    "# recharge date and the recharge value are missing,i.e,customer didn't recharge\n",
    "churn.loc[df.total_rech_data_6.isnull() & churn.date_of_last_rech_data_6.isnull(), [\"total_rech_data_6\", \"date_of_last_rech_data_6\"]].head(20)"
   ]
  },
  {
   "cell_type": "code",
   "execution_count": null,
   "id": "1f1e8f35",
   "metadata": {},
   "outputs": [],
   "source": [
    "# recharge columns for zero impuitation\n",
    "zero=['total_rech_data_6', 'total_rech_data_7', 'total_rech_data_8', 'total_rech_data_9','av_rech_amt_data_6', 'av_rech_amt_data_7', 'av_rech_amt_data_8', 'av_rech_amt_data_9', 'max_rech_data_6', 'max_rech_data_7', 'max_rech_data_8', 'max_rech_data_9']"
   ]
  },
  {
   "cell_type": "code",
   "execution_count": null,
   "id": "25e99823",
   "metadata": {},
   "outputs": [],
   "source": [
    "churn[zero] = churn[zero].apply(lambda x: x.fillna(0))"
   ]
  },
  {
   "cell_type": "code",
   "execution_count": null,
   "id": "bc9af7fa",
   "metadata": {},
   "outputs": [],
   "source": [
    "print(churn[zero].isnull().sum()*100/churn.shape[1])\n",
    "print(churn[zero].describe(include='all'))\n"
   ]
  },
  {
   "cell_type": "code",
   "execution_count": null,
   "id": "c778085c",
   "metadata": {},
   "outputs": [],
   "source": [
    "#NaN replacement for catagories\n",
    "churn[cat] = churn[cat].apply(lambda x: x.fillna(-1))"
   ]
  },
  {
   "cell_type": "code",
   "execution_count": null,
   "id": "7bba0b4d",
   "metadata": {},
   "outputs": [],
   "source": [
    "print(churn[cat].isnull().sum()*100/churn.shape[0])"
   ]
  },
  {
   "cell_type": "code",
   "execution_count": null,
   "id": "a5906408",
   "metadata": {},
   "outputs": [],
   "source": [
    "#dropping variables with missing values>threshold(0.7)\n",
    "initial_cols = churn.shape[1]\n",
    "thold = 0.7\n",
    "\n",
    "include_cols = list(churn.apply(lambda column: True if column.isnull().sum()/churn.shape[0] < thold else False))\n",
    "\n",
    "drop_missing = pd.DataFrame({'features':churn.columns , 'include': include_cols})\n",
    "drop_missing.loc[drop_missing.include == True,:]"
   ]
  },
  {
   "cell_type": "code",
   "execution_count": null,
   "id": "cf113e54",
   "metadata": {},
   "outputs": [],
   "source": [
    "churn = churn.loc[:, include_cols]\n",
    "\n",
    "dropped_cols = churn.shape[1] - initial_cols\n",
    "print(\"{0} columns dropped.\".format(dropped_cols))"
   ]
  },
  {
   "cell_type": "code",
   "execution_count": null,
   "id": "62ee5987",
   "metadata": {},
   "outputs": [],
   "source": [
    "#total data recharge amount(june-july)\n",
    "churn['total_data_rech_6'] = churn.total_rech_data_6 * churn.av_rech_amt_data_6\n",
    "churn['total_data_rech_7'] = churn.total_rech_data_7 * churn.av_rech_amt_data_7"
   ]
  },
  {
   "cell_type": "code",
   "execution_count": null,
   "id": "1e700c93",
   "metadata": {},
   "outputs": [],
   "source": [
    "#total recharge(june-july)\n",
    "churn['amt_data_6'] = churn.total_rech_amt_6 + churn.total_data_rech_6\n",
    "churn['amt_data_7'] = churn.total_rech_amt_7 + churn.total_data_rech_7"
   ]
  },
  {
   "cell_type": "code",
   "execution_count": null,
   "id": "2cc6ac86",
   "metadata": {},
   "outputs": [],
   "source": [
    "#average recharge for june july\n",
    "churn['av_amt_data_6_7'] = (churn.amt_data_6 + churn.amt_data_7)/2"
   ]
  },
  {
   "cell_type": "code",
   "execution_count": null,
   "id": "dfb20b52",
   "metadata": {},
   "outputs": [],
   "source": [
    "#70th percentile recharge\n",
    "print(format(churn.av_amt_data_6_7.quantile(0.7)))"
   ]
  },
  {
   "cell_type": "code",
   "execution_count": null,
   "id": "2f630cdf",
   "metadata": {},
   "outputs": [],
   "source": [
    "churn_filtered = churn.loc[df.av_amt_data_6_7 >= churn.av_amt_data_6_7.quantile(0.7), :]\n",
    "churn_filtered = churn_filtered.reset_index(drop=True)\n",
    "churn_filtered.shape"
   ]
  },
  {
   "cell_type": "code",
   "execution_count": null,
   "id": "93150682",
   "metadata": {},
   "outputs": [],
   "source": [
    "#total incoming and outgoing minutes of usage\n",
    "churn_filtered['total_calls_mou_9'] = churn_filtered.total_ic_mou_9 + churn_filtered.total_og_mou_9"
   ]
  },
  {
   "cell_type": "code",
   "execution_count": null,
   "id": "abd43753",
   "metadata": {},
   "outputs": [],
   "source": [
    "#2g and 3g data consumption\n",
    "churn_filtered['total_internet_mb_9'] =  churn_filtered.vol_2g_mb_9 + churn_filtered.vol_3g_mb_9"
   ]
  },
  {
   "cell_type": "code",
   "execution_count": null,
   "id": "45e09739",
   "metadata": {},
   "outputs": [],
   "source": [
    "#churn variable based on september\n",
    "#0 - not churn, 1 - churn\n",
    "churn_filtered['churn'] = churn_filtered.apply(lambda row: 1 if (row.total_calls_mou_9 == 0 and row.total_internet_mb_9 == 0) else 0, axis=1)"
   ]
  },
  {
   "cell_type": "code",
   "execution_count": null,
   "id": "c4917a2c",
   "metadata": {},
   "outputs": [],
   "source": [
    "churn_filtered = churn_filtered.drop(['total_calls_mou_9', 'total_internet_mb_9'], axis=1)"
   ]
  },
  {
   "cell_type": "code",
   "execution_count": null,
   "id": "4a01e917",
   "metadata": {},
   "outputs": [],
   "source": [
    "churn_filtered.churn = churn_filtered.churn.astype(\"category\")\n",
    "print(\"Churn rate:\")\n",
    "print(churn_filtered.churn.value_counts()*100/churn_filtered.shape[0])"
   ]
  },
  {
   "cell_type": "code",
   "execution_count": null,
   "id": "b235334d",
   "metadata": {},
   "outputs": [],
   "source": [
    "#variable derivation\n",
    "#difference between 8th and previous months\n",
    "churn_filtered['arpu_diff'] = churn_filtered.arpu_8 - ((churn_filtered.arpu_6 + churn_filtered.arpu_7)/2)\n",
    "churn_filtered['onnet_mou_diff'] = churn_filtered.onnet_mou_8 - ((churn_filtered.onnet_mou_6 + churn_filtered.onnet_mou_7)/2)\n",
    "churn_filtered['offnet_mou_diff'] = churn_filtered.offnet_mou_8 - ((churn_filtered.offnet_mou_6 + churn_filtered.offnet_mou_7)/2)\n",
    "churn_filtered['roam_ic_mou_diff'] = churn_filtered.roam_ic_mou_8 - ((churn_filtered.roam_ic_mou_6 + churn_filtered.roam_ic_mou_7)/2)\n",
    "churn_filtered['roam_og_mou_diff'] = churn_filtered.roam_og_mou_8 - ((churn_filtered.roam_og_mou_6 + churn_filtered.roam_og_mou_7)/2)\n",
    "churn_filtered['loc_og_mou_diff'] = churn_filtered.loc_og_mou_8 - ((churn_filtered.loc_og_mou_6 + churn_filtered.loc_og_mou_7)/2)\n",
    "churn_filtered['std_og_mou_diff'] = churn_filtered.std_og_mou_8 - ((churn_filtered.std_og_mou_6 + churn_filtered.std_og_mou_7)/2)\n",
    "churn_filtered['isd_og_mou_diff'] = churn_filtered.isd_og_mou_8 - ((churn_filtered.isd_og_mou_6 + churn_filtered.isd_og_mou_7)/2)\n",
    "churn_filtered['spl_og_mou_diff'] = churn_filtered.spl_og_mou_8 - ((churn_filtered.spl_og_mou_6 + churn_filtered.spl_og_mou_7)/2)\n",
    "churn_filtered['total_og_mou_diff'] = churn_filtered.total_og_mou_8 - ((churn_filtered.total_og_mou_6 + churn_filtered.total_og_mou_7)/2)\n",
    "churn_filtered['loc_ic_mou_diff'] = churn_filtered.loc_ic_mou_8 - ((churn_filtered.loc_ic_mou_6 + churn_filtered.loc_ic_mou_7)/2)\n",
    "churn_filtered['std_ic_mou_diff'] = churn_filtered.std_ic_mou_8 - ((churn_filtered.std_ic_mou_6 + churn_filtered.std_ic_mou_7)/2)\n",
    "churn_filtered['isd_ic_mou_diff'] = churn_filtered.isd_ic_mou_8 - ((churn_filtered.isd_ic_mou_6 + churn_filtered.isd_ic_mou_7)/2)\n",
    "churn_filtered['spl_ic_mou_diff'] = churn_filtered.spl_ic_mou_8 - ((churn_filtered.spl_ic_mou_6 + churn_filtered.spl_ic_mou_7)/2)\n",
    "churn_filtered['total_ic_mou_diff'] = churn_filtered.total_ic_mou_8 - ((churn_filtered.total_ic_mou_6 + churn_filtered.total_ic_mou_7)/2)\n",
    "churn_filtered['total_rech_num_diff'] = churn_filtered.total_rech_num_8 - ((churn_filtered.total_rech_num_6 + churn_filtered.total_rech_num_7)/2)\n",
    "churn_filtered['total_rech_amt_diff'] = churn_filtered.total_rech_amt_8 - ((churn_filtered.total_rech_amt_6 + churn_filtered.total_rech_amt_7)/2)\n",
    "churn_filtered['max_rech_amt_diff'] = churn_filtered.max_rech_amt_8 - ((churn_filtered.max_rech_amt_6 + churn_filtered.max_rech_amt_7)/2)\n",
    "churn_filtered['total_rech_data_diff'] = churn_filtered.total_rech_data_8 - ((churn_filtered.total_rech_data_6 + churn_filtered.total_rech_data_7)/2)\n",
    "churn_filtered['max_rech_data_diff'] = churn_filtered.max_rech_data_8 - ((churn_filtered.max_rech_data_6 + churn_filtered.max_rech_data_7)/2)\n",
    "churn_filtered['av_rech_amt_data_diff'] = churn_filtered.av_rech_amt_data_8 - ((churn_filtered.av_rech_amt_data_6 + churn_filtered.av_rech_amt_data_7)/2)\n",
    "churn_filtered['vol_2g_mb_diff'] = churn_filtered.vol_2g_mb_8 - ((churn_filtered.vol_2g_mb_6 + churn_filtered.vol_2g_mb_7)/2)\n",
    "churn_filtered['vol_3g_mb_diff'] = churn_filtered.vol_3g_mb_8 - ((churn_filtered.vol_3g_mb_6 + churn_filtered.vol_3g_mb_7)/2)"
   ]
  },
  {
   "cell_type": "code",
   "execution_count": null,
   "id": "c3750682",
   "metadata": {},
   "outputs": [],
   "source": [
    "churn_filtered['total_og_mou_diff'].describe()"
   ]
  },
  {
   "cell_type": "code",
   "execution_count": null,
   "id": "d60445cb",
   "metadata": {},
   "outputs": [],
   "source": [
    "#9th month columns not required\n",
    "churn_filtered = churn_filtered.filter(regex='[^9]$', axis=1)\n",
    "churn_filtered.shape"
   ]
  },
  {
   "cell_type": "code",
   "execution_count": null,
   "id": "4b63b95d",
   "metadata": {},
   "outputs": [],
   "source": [
    "# removing names ending with 9\n",
    "col_9_names=churn.filter(regex='9$', axis=1).columns\n",
    "cat=[col for col in cat if col not in col_9_names]\n",
    "cat.append('churn')\n",
    "num=[col for col in churn_filtered.columns if col not in cat]"
   ]
  },
  {
   "cell_type": "code",
   "execution_count": null,
   "id": "ab1d0848",
   "metadata": {},
   "outputs": [],
   "source": [
    "#data visualisation\n",
    "churn_filtered[cat] = churn_filtered[cat].apply(lambda column: column.astype(\"category\"), axis=0)"
   ]
  },
  {
   "cell_type": "code",
   "execution_count": null,
   "id": "41b56b0a",
   "metadata": {},
   "outputs": [],
   "source": [
    "#plotting functions\n",
    "def data_type(variable):\n",
    "    if variable.dtype == np.int64 or variable.dtype == np.float64:\n",
    "        return 'numerical'\n",
    "    elif variable.dtype == 'category':\n",
    "        return 'categorical'\n",
    "    \n",
    "def univariate(variable, stats=True):\n",
    "    \n",
    "    if data_type(variable) == 'numerical':\n",
    "        sns.distplot(variable)\n",
    "        if stats == True:\n",
    "            print(variable.describe())\n",
    "    \n",
    "    elif data_type(variable) == 'categorical':\n",
    "        sns.countplot(variable)\n",
    "        if stats == True:\n",
    "            print(variable.value_counts())\n",
    "            \n",
    "    else:\n",
    "        print(\"Invalid variable passed: either pass a numeric variable or a categorical vairable.\")\n",
    "        \n",
    "def bivariate(var1, var2):\n",
    "    if data_type(var1) == 'numerical' and data_type(var2) == 'numerical':\n",
    "        sns.regplot(var1, var2)\n",
    "    elif (data_type(var1) == 'categorical' and data_type(var2) == 'numerical') or (data_type(var1) == 'numerical' and data_type(var2) == 'categorical'):        \n",
    "        sns.boxplot(var1, var2)"
   ]
  },
  {
   "cell_type": "code",
   "execution_count": null,
   "id": "4b13d353",
   "metadata": {},
   "outputs": [],
   "source": [
    "univariate(churn.arpu_6)"
   ]
  },
  {
   "cell_type": "code",
   "execution_count": null,
   "id": "d7a9c927",
   "metadata": {},
   "outputs": [],
   "source": [
    "bivariate(churn_filtered.churn, churn_filtered.aon)"
   ]
  },
  {
   "cell_type": "code",
   "execution_count": null,
   "id": "46230a20",
   "metadata": {},
   "outputs": [],
   "source": [
    "bivariate(churn_filtered.sep_vbc_3g, churn_filtered.churn)"
   ]
  },
  {
   "cell_type": "code",
   "execution_count": null,
   "id": "b5a9168f",
   "metadata": {},
   "outputs": [],
   "source": [
    "bivariate(churn_filtered.spl_og_mou_8, churn_filtered.churn)"
   ]
  },
  {
   "cell_type": "code",
   "execution_count": null,
   "id": "933736fe",
   "metadata": {},
   "outputs": [],
   "source": [
    "pd.crosstab(churn_filtered.churn, churn_filtered.night_pck_user_8, normalize='columns')*100"
   ]
  },
  {
   "cell_type": "code",
   "execution_count": null,
   "id": "2f88f11b",
   "metadata": {},
   "outputs": [],
   "source": [
    "pd.crosstab(churn_filtered.churn, churn_filtered.sachet_3g_8)"
   ]
  },
  {
   "cell_type": "code",
   "execution_count": null,
   "id": "40ae59db",
   "metadata": {},
   "outputs": [],
   "source": [
    "#modelling\n",
    "# import required libraries\n",
    "from sklearn.model_selection import train_test_split\n",
    "from sklearn.pipeline import Pipeline\n",
    "from sklearn.decomposition import PCA\n",
    "from sklearn.preprocessing import StandardScaler\n",
    "from sklearn.pipeline import FeatureUnion\n",
    "from sklearn.base import BaseEstimator, TransformerMixin\n",
    "from sklearn.linear_model import LogisticRegression\n",
    "from sklearn.metrics import classification_report\n",
    "from sklearn.metrics import roc_auc_score\n",
    "from sklearn.model_selection import StratifiedKFold\n",
    "from sklearn.model_selection import cross_val_score\n",
    "from sklearn.metrics import confusion_matrix\n",
    "from sklearn.model_selection import GridSearchCV\n",
    "from sklearn.ensemble import RandomForestClassifier\n",
    "from sklearn.ensemble import GradientBoostingClassifier\n",
    "from sklearn.svm import SVC\n",
    "from imblearn.metrics import sensitivity_specificity_support"
   ]
  },
  {
   "cell_type": "code",
   "execution_count": null,
   "id": "b9134b68",
   "metadata": {},
   "outputs": [],
   "source": [
    "#change churn to numeric\n",
    "churn_filtered['churn'] = pd.to_numeric(churn_filtered['churn'])"
   ]
  },
  {
   "cell_type": "code",
   "execution_count": null,
   "id": "69f5a52c",
   "metadata": {},
   "outputs": [],
   "source": [
    "#train test split\n",
    "X = churn_filtered.drop(\"churn\", axis = 1)\n",
    "y = churn_filtered.churn\n",
    "X_train, X_test, y_train, y_test = train_test_split(X, y, test_size = 0.25, random_state = 4, stratify = y)"
   ]
  },
  {
   "cell_type": "code",
   "execution_count": null,
   "id": "1a64aa04",
   "metadata": {},
   "outputs": [],
   "source": [
    "X_train.shape\n",
    "y_train.shape\n",
    "X_test.shape\n",
    "y_test.shape"
   ]
  },
  {
   "cell_type": "code",
   "execution_count": null,
   "id": "ecd45779",
   "metadata": {},
   "outputs": [],
   "source": [
    "#aggregation of categorical variables\n",
    "train = pd.concat([X_train, y_train], axis=1)\n",
    "\n",
    "train.groupby('night_pck_user_6').churn.mean()\n",
    "train.groupby('night_pck_user_7').churn.mean()\n",
    "train.groupby('night_pck_user_8').churn.mean()\n",
    "train.groupby('fb_user_6').churn.mean()\n",
    "train.groupby('fb_user_7').churn.mean()\n",
    "train.groupby('fb_user_8').churn.mean()"
   ]
  },
  {
   "cell_type": "code",
   "execution_count": null,
   "id": "28489b98",
   "metadata": {},
   "outputs": [],
   "source": [
    "map = {'night_pck_user_6' : {-1: 0.099165, 0: 0.066797, 1: 0.087838},\n",
    "       'night_pck_user_7' : {-1: 0.115746, 0: 0.055494, 1: 0.051282},\n",
    "       'night_pck_user_8' : {-1: 0.141108, 0: 0.029023, 1: 0.016194},\n",
    "       'fb_user_6'        : {-1: 0.099165, 0: 0.069460, 1: 0.067124},\n",
    "       'fb_user_7'        : {-1: 0.115746, 0: 0.059305, 1: 0.055082},\n",
    "       'fb_user_8'        : {-1: 0.141108, 0: 0.066887, 1: 0.024463}\n",
    "      }\n",
    "X_train.replace(map, inplace = True)\n",
    "X_test.replace(map, inplace = True)"
   ]
  },
  {
   "cell_type": "code",
   "execution_count": null,
   "id": "da3b29d1",
   "metadata": {},
   "outputs": [],
   "source": [
    "X_train[[col for col in cat if col not in ['churn']]].info()"
   ]
  },
  {
   "cell_type": "code",
   "execution_count": null,
   "id": "dfe88fdb",
   "metadata": {},
   "outputs": [],
   "source": [
    "#PCA\n",
    "pca = Pipeline([('scaler', StandardScaler()), ('pca', PCA())])"
   ]
  },
  {
   "cell_type": "code",
   "execution_count": null,
   "id": "38344629",
   "metadata": {},
   "outputs": [],
   "source": [
    "pca.fit(X_train)\n",
    "churn_pca = pca.fit_transform(X_train)"
   ]
  },
  {
   "cell_type": "code",
   "execution_count": null,
   "id": "d4c83342",
   "metadata": {},
   "outputs": [],
   "source": [
    "pca = pca.named_steps['pca']\n",
    "\n",
    "# look at explainded variance of PCA components\n",
    "print(pd.Series(np.round(pca.explained_variance_ratio_.cumsum(), 4)*100))"
   ]
  },
  {
   "cell_type": "code",
   "execution_count": null,
   "id": "eefa718f",
   "metadata": {},
   "outputs": [],
   "source": [
    "#feature variance\n",
    "features = range(pca.n_components_)\n",
    "cumulative_variance = np.round(np.cumsum(pca.explained_variance_ratio_)*100, decimals=4)\n",
    "plt.figure(figsize=(175/20,100/20))\n",
    "plt.plot(cumulative_variance)"
   ]
  },
  {
   "cell_type": "code",
   "execution_count": null,
   "id": "fb723ecb",
   "metadata": {},
   "outputs": [],
   "source": [
    "#PCA and Logistic Regression\n",
    "# create pipeline\n",
    "PCA_VARS = 60\n",
    "steps = [('scaler', StandardScaler()),\n",
    "         (\"pca\", PCA(n_components=PCA_VARS)),\n",
    "         (\"logistic\", LogisticRegression(class_weight='balanced'))\n",
    "        ]\n",
    "pipeline = Pipeline(steps)"
   ]
  },
  {
   "cell_type": "code",
   "execution_count": null,
   "id": "52bb13e9",
   "metadata": {},
   "outputs": [],
   "source": [
    "pipeline.fit(X_train, y_train)\n",
    "pipeline.score(X_train, y_train)"
   ]
  },
  {
   "cell_type": "code",
   "execution_count": null,
   "id": "9599fc42",
   "metadata": {},
   "outputs": [],
   "source": [
    "#TEST DATA EVALUATION\n",
    "y_pred = pipeline.predict(X_test)\n",
    "cm = confusion_matrix(y_test, y_pred)\n",
    "print(cm)\n",
    "sensitivity, specificity, _ = sensitivity_specificity_support(y_test, y_pred, average='binary')\n",
    "print(\"Sensitivity: \\t\", round(sensitivity, 2), \"\\n\", \"Specificity: \\t\", round(specificity, 2), sep='')\n",
    "y_pred_prob = pipeline.predict_proba(X_test)[:, 1]\n",
    "print(\"AUC:    \\t\", round(roc_auc_score(y_test, y_pred_prob),2))"
   ]
  },
  {
   "cell_type": "code",
   "execution_count": null,
   "id": "ffd8b8a7",
   "metadata": {},
   "outputs": [],
   "source": [
    "#hyperparameter tuning\n",
    "y_train.value_counts()/y_train.shape"
   ]
  },
  {
   "cell_type": "code",
   "execution_count": null,
   "id": "4b0aabaf",
   "metadata": {},
   "outputs": [],
   "source": [
    "# PCA\n",
    "pca = PCA()\n",
    "\n",
    "logistic = LogisticRegression(class_weight={0:0.1, 1: 0.9})\n",
    "\n",
    "steps = [(\"scaler\", StandardScaler()), \n",
    "         (\"pca\", pca),\n",
    "         (\"logistic\", logistic)\n",
    "        ]\n",
    "\n",
    "pca_logistic = Pipeline(steps)\n",
    "\n",
    "params = {'pca__n_components': [60, 80], 'logistic__C': [0.1, 0.5, 1, 2, 3, 4, 5, 10], 'logistic__penalty': ['l1', 'l2']}\n",
    "\n",
    "folds = StratifiedKFold(n_splits = 5, shuffle = True, random_state = 4)\n",
    "\n",
    "model = GridSearchCV(estimator=pca_logistic, cv=folds, param_grid=params, scoring='roc_auc', n_jobs=-1, verbose=1)"
   ]
  },
  {
   "cell_type": "code",
   "execution_count": null,
   "id": "e089d63f",
   "metadata": {},
   "outputs": [],
   "source": [
    "model.fit(X_train, y_train)"
   ]
  },
  {
   "cell_type": "code",
   "execution_count": null,
   "id": "1fd4bd52",
   "metadata": {},
   "outputs": [],
   "source": [
    "pd.DataFrame(model.cv_results_)"
   ]
  },
  {
   "cell_type": "code",
   "execution_count": null,
   "id": "923892c6",
   "metadata": {},
   "outputs": [],
   "source": [
    "print(\"Best AUC: \", model.best_score_)\n",
    "print(\"Best hyperparameters: \", model.best_params_)"
   ]
  },
  {
   "cell_type": "code",
   "execution_count": null,
   "id": "d817baac",
   "metadata": {},
   "outputs": [],
   "source": [
    "y_pred = model.predict(X_test)\n",
    "\n",
    "cm = confusion_matrix(y_test, y_pred)\n",
    "print(cm)\n",
    "\n",
    "sensitivity, specificity, _ = sensitivity_specificity_support(y_test, y_pred, average='binary')\n",
    "print(\"Sensitivity: \\t\", round(sensitivity, 2), \"\\n\", \"Specificity: \\t\", round(specificity, 2), sep='')\n",
    "\n",
    "y_pred_prob = model.predict_proba(X_test)[:, 1]\n",
    "print(\"AUC:    \\t\", round(roc_auc_score(y_test, y_pred_prob),2))"
   ]
  },
  {
   "cell_type": "code",
   "execution_count": null,
   "id": "9acdf52b",
   "metadata": {},
   "outputs": [],
   "source": [
    "#random forest\n",
    "forest = RandomForestClassifier(class_weight={0:0.1, 1: 0.9}, n_jobs = -1)\n",
    "params = {\"criterion\": ['gini', 'entropy'], \"max_features\": ['auto', 0.4]}\n",
    "folds = StratifiedKFold(n_splits = 5, shuffle = True, random_state = 4)\n",
    "model = GridSearchCV(estimator=forest, cv=folds, param_grid=params, scoring='roc_auc', n_jobs=-1, verbose=1)"
   ]
  },
  {
   "cell_type": "code",
   "execution_count": null,
   "id": "147a4a07",
   "metadata": {},
   "outputs": [],
   "source": [
    "model.fit(X_train, y_train)"
   ]
  },
  {
   "cell_type": "code",
   "execution_count": null,
   "id": "267cf00b",
   "metadata": {},
   "outputs": [],
   "source": [
    "print(\"Best AUC: \", model.best_score_)\n",
    "print(\"Best hyperparameters: \", model.best_params_)"
   ]
  },
  {
   "cell_type": "code",
   "execution_count": null,
   "id": "e26b9d6e",
   "metadata": {},
   "outputs": [],
   "source": [
    "y_pred = model.predict(X_test)\n",
    "\n",
    "cm = confusion_matrix(y_test, y_pred)\n",
    "print(cm)\n",
    "\n",
    "sensitivity, specificity, _ = sensitivity_specificity_support(y_test, y_pred, average='binary')\n",
    "print(\"Sensitivity: \\t\", round(sensitivity, 2), \"\\n\", \"Specificity: \\t\", round(specificity, 2), sep='')\n",
    "\n",
    "y_pred_prob = model.predict_proba(X_test)[:, 1]\n",
    "print(\"AUC:    \\t\", round(roc_auc_score(y_test, y_pred_prob),2))"
   ]
  },
  {
   "cell_type": "code",
   "execution_count": null,
   "id": "36cb3553",
   "metadata": {},
   "outputs": [],
   "source": [
    "#feature selection\n",
    "max_features = int(round(np.sqrt(X_train.shape[1])))    # number of variables to consider to split each node\n",
    "print(max_features)\n",
    "\n",
    "rf_model = RandomForestClassifier(n_estimators=100, max_features=max_features, class_weight={0:0.1, 1: 0.9}, oob_score=True, random_state=4, verbose=1)"
   ]
  },
  {
   "cell_type": "code",
   "execution_count": null,
   "id": "c6b8ec6d",
   "metadata": {},
   "outputs": [],
   "source": [
    "rf_model.fit(X_train, y_train)"
   ]
  },
  {
   "cell_type": "code",
   "execution_count": null,
   "id": "774628c0",
   "metadata": {},
   "outputs": [],
   "source": [
    "rf_model.oob_score_"
   ]
  },
  {
   "cell_type": "code",
   "execution_count": null,
   "id": "193b24bc",
   "metadata": {},
   "outputs": [],
   "source": [
    "y_pred = rf_model.predict(X_test)\n",
    "\n",
    "cm = confusion_matrix(y_test, y_pred)\n",
    "print(cm)\n",
    "\n",
    "sensitivity, specificity, _ = sensitivity_specificity_support(y_test, y_pred, average='binary')\n",
    "print(\"Sensitivity: \\t\", round(sensitivity, 2), \"\\n\", \"Specificity: \\t\", round(specificity, 2), sep='')\n",
    "\n",
    "y_pred_prob = rf_model.predict_proba(X_test)[:, 1]\n",
    "print(\"ROC:    \\t\", round(roc_auc_score(y_test, y_pred_prob),2))"
   ]
  },
  {
   "cell_type": "code",
   "execution_count": null,
   "id": "af90ce6a",
   "metadata": {},
   "outputs": [],
   "source": [
    "#feature importance\n",
    "# predictors\n",
    "features = churn_filtered.drop('churn', axis=1).columns\n",
    "\n",
    "# feature_importance\n",
    "importance = rf_model.feature_importances_\n",
    "\n",
    "# create dataframe\n",
    "feature_importance = pd.DataFrame({'variables': features, 'importance_percentage': importance*100})\n",
    "feature_importance = feature_importance[['variables', 'importance_percentage']]\n",
    "\n",
    "# sort features\n",
    "feature_importance = feature_importance.sort_values('importance_percentage', ascending=False).reset_index(drop=True)\n",
    "print(\"Sum of importance=\", feature_importance.importance_percentage.sum())\n",
    "feature_importance"
   ]
  },
  {
   "cell_type": "code",
   "execution_count": null,
   "id": "00e172a2",
   "metadata": {},
   "outputs": [],
   "source": [
    "#top 30 features\n",
    "top_n = 30\n",
    "top_features = feature_importance.variables[0:top_n]"
   ]
  },
  {
   "cell_type": "code",
   "execution_count": null,
   "id": "2f7e2eeb",
   "metadata": {},
   "outputs": [],
   "source": [
    "import seaborn as sns\n",
    "plt.rcParams[\"figure.figsize\"] =(10,10)\n",
    "mycmap = sns.diverging_palette(199, 359, s=99, center=\"light\", as_cmap=True)\n",
    "sns.heatmap(data=X_train[top_features].corr(), center=0.0, cmap=mycmap)"
   ]
  },
  {
   "cell_type": "code",
   "execution_count": null,
   "id": "f650e11c",
   "metadata": {},
   "outputs": [],
   "source": [
    "top_features = ['total_ic_mou_8', 'total_rech_amt_diff', 'total_og_mou_8', 'arpu_8', 'roam_ic_mou_8', 'roam_og_mou_8', \n",
    "                'std_ic_mou_8', 'av_rech_amt_data_8', 'std_og_mou_8']\n",
    "X_train = X_train[top_features]\n",
    "X_test = X_test[top_features]"
   ]
  },
  {
   "cell_type": "code",
   "execution_count": null,
   "id": "f7bee367",
   "metadata": {},
   "outputs": [],
   "source": [
    "# logistic regression\n",
    "steps = [('scaler', StandardScaler()), \n",
    "         (\"logistic\", LogisticRegression(class_weight={0:0.1, 1:0.9}))\n",
    "        ]\n",
    "\n",
    "logistic = Pipeline(steps)\n",
    "\n",
    "params = {'logistic__C': [0.1, 0.5, 1, 2, 3, 4, 5, 10], 'logistic__penalty': ['l1', 'l2']}\n",
    "\n",
    "folds = StratifiedKFold(n_splits = 5, shuffle = True, random_state = 4)\n",
    "\n",
    "model = GridSearchCV(estimator=logistic, cv=folds, param_grid=params, scoring='roc_auc', n_jobs=-1, verbose=1)"
   ]
  },
  {
   "cell_type": "code",
   "execution_count": null,
   "id": "3f3466ff",
   "metadata": {},
   "outputs": [],
   "source": [
    "model.fit(X_train, y_train)"
   ]
  },
  {
   "cell_type": "code",
   "execution_count": null,
   "id": "c6f69c62",
   "metadata": {},
   "outputs": [],
   "source": [
    "print(\"Best AUC: \", model.best_score_)\n",
    "print(\"Best hyperparameters: \", model.best_params_)"
   ]
  },
  {
   "cell_type": "code",
   "execution_count": null,
   "id": "bdab0edc",
   "metadata": {},
   "outputs": [],
   "source": [
    "y_pred = model.predict(X_test)\n",
    "\n",
    "cm = confusion_matrix(y_test, y_pred)\n",
    "print(cm)\n",
    "\n",
    "sensitivity, specificity, _ = sensitivity_specificity_support(y_test, y_pred, average='binary')\n",
    "print(\"Sensitivity: \\t\", round(sensitivity, 2), \"\\n\", \"Specificity: \\t\", round(specificity, 2), sep='')\n",
    "\n",
    "y_pred_prob = model.predict_proba(X_test)[:, 1]\n",
    "print(\"ROC:    \\t\", round(roc_auc_score(y_test, y_pred_prob),2))"
   ]
  },
  {
   "cell_type": "code",
   "execution_count": null,
   "id": "86367e7f",
   "metadata": {},
   "outputs": [],
   "source": [
    "#intercepts and coefficients\n",
    "logistic_model = model.best_estimator_.named_steps['logistic']"
   ]
  },
  {
   "cell_type": "code",
   "execution_count": null,
   "id": "be47faff",
   "metadata": {},
   "outputs": [],
   "source": [
    "intercept_df = pd.DataFrame(logistic_model.intercept_.reshape((1,1)), columns = ['intercept'])"
   ]
  },
  {
   "cell_type": "code",
   "execution_count": null,
   "id": "b0244fbc",
   "metadata": {},
   "outputs": [],
   "source": [
    "coefficients = logistic_model.coef_.reshape((9, 1)).tolist()\n",
    "coefficients = [val for sublist in coefficients for val in sublist]\n",
    "coefficients = [round(coefficient, 3) for coefficient in coefficients]\n",
    "logistic_features = list(X_train.columns)\n",
    "coefficients_df = pd.DataFrame(logistic_model.coef_, columns=logistic_features)"
   ]
  },
  {
   "cell_type": "code",
   "execution_count": null,
   "id": "2baec17a",
   "metadata": {},
   "outputs": [],
   "source": [
    "coefficients = pd.concat([intercept_df, coefficients_df], axis=1)\n",
    "coefficients"
   ]
  },
  {
   "cell_type": "markdown",
   "id": "25c0d028",
   "metadata": {},
   "source": [
    "# Insights \n",
    "1- STD and ISD are very important in deciding the churn.\n",
    "\n",
    "2- Roaming rates are also one of the important factors contributing to churn ratios.\n",
    "\n",
    "3- Customers that have been using services for less than 4 years have high chances of churning."
   ]
  },
  {
   "cell_type": "code",
   "execution_count": null,
   "id": "2650d3af",
   "metadata": {},
   "outputs": [],
   "source": []
  }
 ],
 "metadata": {
  "kernelspec": {
   "display_name": "Python 3 (ipykernel)",
   "language": "python",
   "name": "python3"
  },
  "language_info": {
   "codemirror_mode": {
    "name": "ipython",
    "version": 3
   },
   "file_extension": ".py",
   "mimetype": "text/x-python",
   "name": "python",
   "nbconvert_exporter": "python",
   "pygments_lexer": "ipython3",
   "version": "3.9.7"
  }
 },
 "nbformat": 4,
 "nbformat_minor": 5
}
